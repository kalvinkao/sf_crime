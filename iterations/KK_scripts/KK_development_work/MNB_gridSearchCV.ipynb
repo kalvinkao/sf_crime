{
 "cells": [
  {
   "cell_type": "code",
   "execution_count": 1,
   "metadata": {
    "collapsed": false
   },
   "outputs": [
    {
     "name": "stderr",
     "output_type": "stream",
     "text": [
      "C:\\ProgramData\\Anaconda3\\lib\\site-packages\\sklearn\\cross_validation.py:44: DeprecationWarning: This module was deprecated in version 0.18 in favor of the model_selection module into which all the refactored classes and functions are moved. Also note that the interface of the new CV iterators are different from that of this module. This module will be removed in 0.20.\n",
      "  \"This module will be removed in 0.20.\", DeprecationWarning)\n",
      "C:\\ProgramData\\Anaconda3\\lib\\site-packages\\sklearn\\grid_search.py:43: DeprecationWarning: This module was deprecated in version 0.18 in favor of the model_selection module into which all the refactored classes and functions are moved. This module will be removed in 0.20.\n",
      "  DeprecationWarning)\n"
     ]
    }
   ],
   "source": [
    "%matplotlib inline\n",
    "import matplotlib.pyplot as plt\n",
    "import csv\n",
    "# Import relevant libraries:\n",
    "import time\n",
    "import numpy as np\n",
    "import pandas as pd\n",
    "from sklearn.neighbors import KNeighborsClassifier\n",
    "from sklearn import preprocessing\n",
    "from sklearn.preprocessing import MinMaxScaler\n",
    "from sklearn.preprocessing import StandardScaler\n",
    "from sklearn.naive_bayes import BernoulliNB\n",
    "from sklearn.naive_bayes import MultinomialNB\n",
    "from sklearn.naive_bayes import GaussianNB\n",
    "from sklearn.grid_search import GridSearchCV\n",
    "from sklearn.metrics import classification_report\n",
    "from sklearn.metrics import log_loss\n",
    "from sklearn.linear_model import LogisticRegression\n",
    "from sklearn import svm\n",
    "from sklearn.neural_network import MLPClassifier\n",
    "from sklearn.ensemble import RandomForestClassifier\n",
    "from sklearn.tree import DecisionTreeClassifier\n",
    "# Import Meta-estimators\n",
    "from sklearn.ensemble import AdaBoostClassifier\n",
    "from sklearn.ensemble import BaggingClassifier\n",
    "from sklearn.ensemble import GradientBoostingClassifier\n",
    "# Import Calibration tools\n",
    "from sklearn.calibration import CalibratedClassifierCV\n",
    "\n",
    "# Set random seed and format print output:\n",
    "np.random.seed(0)\n",
    "np.set_printoptions(precision=3)"
   ]
  },
  {
   "cell_type": "code",
   "execution_count": 2,
   "metadata": {
    "collapsed": false
   },
   "outputs": [
    {
     "name": "stdout",
     "output_type": "stream",
     "text": [
      "39 39 39\n",
      "700000 700000\n",
      "100000 100000\n",
      "200000 200000\n",
      "50000 50000\n",
      "78049 78049\n"
     ]
    }
   ],
   "source": [
    "# Data path to your local copy of Kalvin's \"x_data.csv\", which was produced by the negated cell above\n",
    "data_path = \"./data/x_data_3.csv\"\n",
    "df = pd.read_csv(data_path, header=0)\n",
    "x_data = df.drop('category', 1)\n",
    "y = df.category.as_matrix()\n",
    "\n",
    "# Impute missing values with mean values:\n",
    "#x_complete = df.fillna(df.mean())\n",
    "x_complete = x_data.fillna(x_data.mean())\n",
    "X_raw = x_complete.as_matrix()\n",
    "\n",
    "# Scale the data between 0 and 1:\n",
    "X = MinMaxScaler().fit_transform(X_raw)\n",
    "\n",
    "####\n",
    "X = np.around(X, decimals=2)\n",
    "####\n",
    "\n",
    "# Shuffle data to remove any underlying pattern that may exist.  Must re-run random seed step each time:\n",
    "np.random.seed(0)\n",
    "shuffle = np.random.permutation(np.arange(X.shape[0]))\n",
    "X, y = X[shuffle], y[shuffle]\n",
    "\n",
    "test_data, test_labels = X[800000:], y[800000:]\n",
    "dev_data, dev_labels = X[700000:800000], y[700000:800000]\n",
    "train_data, train_labels = X[:700000], y[:700000]\n",
    "\n",
    "mini_train_data, mini_train_labels = X[:200000], y[:200000]\n",
    "mini_dev_data, mini_dev_labels = X[430000:480000], y[430000:480000]\n",
    "\n",
    "crime_labels = list(set(y))\n",
    "crime_labels_mini_train = list(set(mini_train_labels))\n",
    "crime_labels_mini_dev = list(set(mini_dev_labels))\n",
    "print(len(crime_labels), len(crime_labels_mini_train), len(crime_labels_mini_dev))\n",
    "\n",
    "print(len(train_data),len(train_labels))\n",
    "print(len(dev_data),len(dev_labels))\n",
    "print(len(mini_train_data),len(mini_train_labels))\n",
    "print(len(mini_dev_data),len(mini_dev_labels))\n",
    "print(len(test_data),len(test_labels))"
   ]
  },
  {
   "cell_type": "code",
   "execution_count": 4,
   "metadata": {
    "collapsed": false
   },
   "outputs": [
    {
     "name": "stdout",
     "output_type": "stream",
     "text": [
      "the best alpha value is: 1.0\n"
     ]
    }
   ],
   "source": [
    "mnb_param_grid = {'alpha': [0.01, 1.0, 10.0, 50.0]}\n",
    "MNB = GridSearchCV(MultinomialNB(), param_grid=mnb_param_grid, scoring = 'neg_log_loss')\n",
    "MNB.fit(train_data, train_labels)\n",
    "print(\"the best alpha value is:\", str(MNB.best_params_['alpha']))"
   ]
  },
  {
   "cell_type": "code",
   "execution_count": 6,
   "metadata": {
    "collapsed": true
   },
   "outputs": [],
   "source": [
    "MNBPredictionProbabilities = MNB.predict_proba(dev_data)"
   ]
  },
  {
   "cell_type": "code",
   "execution_count": 7,
   "metadata": {
    "collapsed": false
   },
   "outputs": [
    {
     "name": "stdout",
     "output_type": "stream",
     "text": [
      "Multi-class Log Loss: 2.60027983541 \n",
      "\n",
      "\n"
     ]
    }
   ],
   "source": [
    "print(\"Multi-class Log Loss:\", log_loss(y_true = dev_labels, y_pred = MNBPredictionProbabilities, labels = crime_labels), \"\\n\\n\")"
   ]
  },
  {
   "cell_type": "code",
   "execution_count": 8,
   "metadata": {
    "collapsed": false
   },
   "outputs": [
    {
     "name": "stdout",
     "output_type": "stream",
     "text": [
      "the best alpha value is: 0.5\n"
     ]
    }
   ],
   "source": [
    "mnb_param_grid = {'alpha': [0.5, 1.0, 2.5, 5.0]}\n",
    "MNB = GridSearchCV(MultinomialNB(), param_grid=mnb_param_grid, scoring = 'neg_log_loss')\n",
    "MNB.fit(train_data, train_labels)\n",
    "print(\"the best alpha value is:\", str(MNB.best_params_['alpha']))"
   ]
  },
  {
   "cell_type": "code",
   "execution_count": 9,
   "metadata": {
    "collapsed": false
   },
   "outputs": [
    {
     "name": "stdout",
     "output_type": "stream",
     "text": [
      "Multi-class Log Loss: 2.60027809111 \n",
      "\n",
      "\n"
     ]
    }
   ],
   "source": [
    "MNBPredictionProbabilities = MNB.predict_proba(dev_data)\n",
    "print(\"Multi-class Log Loss:\", log_loss(y_true = dev_labels, y_pred = MNBPredictionProbabilities, labels = crime_labels), \"\\n\\n\")"
   ]
  },
  {
   "cell_type": "code",
   "execution_count": 10,
   "metadata": {
    "collapsed": false
   },
   "outputs": [
    {
     "name": "stdout",
     "output_type": "stream",
     "text": [
      "the best alpha value is: 0.5\n"
     ]
    }
   ],
   "source": [
    "mnb_param_grid = {'alpha': [0.0001, 0.01, 0.1, 0.5]}\n",
    "MNB = GridSearchCV(MultinomialNB(), param_grid=mnb_param_grid, scoring = 'neg_log_loss')\n",
    "MNB.fit(train_data, train_labels)\n",
    "print(\"the best alpha value is:\", str(MNB.best_params_['alpha']))"
   ]
  },
  {
   "cell_type": "code",
   "execution_count": 11,
   "metadata": {
    "collapsed": false
   },
   "outputs": [
    {
     "name": "stdout",
     "output_type": "stream",
     "text": [
      "the best alpha value is: 0.4\n"
     ]
    }
   ],
   "source": [
    "mnb_param_grid = {'alpha': [0.2, 0.4, 0.6, 0.8]}\n",
    "MNB = GridSearchCV(MultinomialNB(), param_grid=mnb_param_grid, scoring = 'neg_log_loss')\n",
    "MNB.fit(train_data, train_labels)\n",
    "print(\"the best alpha value is:\", str(MNB.best_params_['alpha']))"
   ]
  },
  {
   "cell_type": "code",
   "execution_count": 12,
   "metadata": {
    "collapsed": false
   },
   "outputs": [
    {
     "name": "stdout",
     "output_type": "stream",
     "text": [
      "the best alpha value is: 0.35\n"
     ]
    }
   ],
   "source": [
    "mnb_param_grid = {'alpha': [0.3, 0.35, 0.4, 0.45, 0.5]}\n",
    "MNB = GridSearchCV(MultinomialNB(), param_grid=mnb_param_grid, scoring = 'neg_log_loss')\n",
    "MNB.fit(train_data, train_labels)\n",
    "print(\"the best alpha value is:\", str(MNB.best_params_['alpha']))"
   ]
  },
  {
   "cell_type": "code",
   "execution_count": 15,
   "metadata": {
    "collapsed": false
   },
   "outputs": [
    {
     "name": "stdout",
     "output_type": "stream",
     "text": [
      "the best alpha value is: 0.35\n"
     ]
    }
   ],
   "source": [
    "mnb_param_grid = {'alpha': [0.31, 0.33, 0.35, 0.37, 0.39]}\n",
    "MNB = GridSearchCV(MultinomialNB(), param_grid=mnb_param_grid, scoring = 'neg_log_loss')\n",
    "MNB.fit(train_data, train_labels)\n",
    "print(\"the best alpha value is:\", str(MNB.best_params_['alpha']))"
   ]
  },
  {
   "cell_type": "code",
   "execution_count": 16,
   "metadata": {
    "collapsed": false
   },
   "outputs": [
    {
     "name": "stdout",
     "output_type": "stream",
     "text": [
      "Multi-class Log Loss: 2.60028078427 \n",
      "\n",
      "\n"
     ]
    }
   ],
   "source": [
    "MNBPredictionProbabilities = MNB.predict_proba(dev_data)\n",
    "print(\"Multi-class Log Loss:\", log_loss(y_true = dev_labels, y_pred = MNBPredictionProbabilities, labels = crime_labels), \"\\n\\n\")"
   ]
  },
  {
   "cell_type": "code",
   "execution_count": 17,
   "metadata": {
    "collapsed": false
   },
   "outputs": [
    {
     "name": "stdout",
     "output_type": "stream",
     "text": [
      "the best alpha value is: 0.345\n"
     ]
    }
   ],
   "source": [
    "mnb_param_grid = {'alpha': [0.340, 0.345, 0.35, 0.355, 0.360]}\n",
    "MNB = GridSearchCV(MultinomialNB(), param_grid=mnb_param_grid, scoring = 'neg_log_loss')\n",
    "MNB.fit(train_data, train_labels)\n",
    "print(\"the best alpha value is:\", str(MNB.best_params_['alpha']))"
   ]
  },
  {
   "cell_type": "code",
   "execution_count": 18,
   "metadata": {
    "collapsed": false
   },
   "outputs": [
    {
     "name": "stdout",
     "output_type": "stream",
     "text": [
      "Multi-class Log Loss: 2.60028093653 \n",
      "\n",
      "\n"
     ]
    }
   ],
   "source": [
    "MNBPredictionProbabilities = MNB.predict_proba(dev_data)\n",
    "print(\"Multi-class Log Loss:\", log_loss(y_true = dev_labels, y_pred = MNBPredictionProbabilities, labels = crime_labels), \"\\n\\n\")"
   ]
  }
 ],
 "metadata": {
  "kernelspec": {
   "display_name": "Python 3",
   "language": "python",
   "name": "python3"
  },
  "language_info": {
   "codemirror_mode": {
    "name": "ipython",
    "version": 3
   },
   "file_extension": ".py",
   "mimetype": "text/x-python",
   "name": "python",
   "nbconvert_exporter": "python",
   "pygments_lexer": "ipython3",
   "version": "3.6.0"
  }
 },
 "nbformat": 4,
 "nbformat_minor": 2
}
