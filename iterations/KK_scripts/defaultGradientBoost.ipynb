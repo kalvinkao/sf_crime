{
 "cells": [
  {
   "cell_type": "code",
   "execution_count": 2,
   "metadata": {
    "collapsed": false
   },
   "outputs": [
    {
     "name": "stderr",
     "output_type": "stream",
     "text": [
      "C:\\ProgramData\\Anaconda3\\lib\\site-packages\\sklearn\\cross_validation.py:44: DeprecationWarning: This module was deprecated in version 0.18 in favor of the model_selection module into which all the refactored classes and functions are moved. Also note that the interface of the new CV iterators are different from that of this module. This module will be removed in 0.20.\n",
      "  \"This module will be removed in 0.20.\", DeprecationWarning)\n",
      "C:\\ProgramData\\Anaconda3\\lib\\site-packages\\sklearn\\grid_search.py:43: DeprecationWarning: This module was deprecated in version 0.18 in favor of the model_selection module into which all the refactored classes and functions are moved. This module will be removed in 0.20.\n",
      "  DeprecationWarning)\n"
     ]
    }
   ],
   "source": [
    "# Additional Libraries\n",
    "%matplotlib inline\n",
    "import matplotlib.pyplot as plt\n",
    "\n",
    "# Import relevant libraries:\n",
    "import time\n",
    "import numpy as np\n",
    "import pandas as pd\n",
    "from sklearn.neighbors import KNeighborsClassifier\n",
    "from sklearn import preprocessing\n",
    "from sklearn.preprocessing import MinMaxScaler\n",
    "from sklearn.preprocessing import StandardScaler\n",
    "from sklearn.naive_bayes import BernoulliNB\n",
    "from sklearn.naive_bayes import MultinomialNB\n",
    "from sklearn.naive_bayes import GaussianNB\n",
    "from sklearn.grid_search import GridSearchCV\n",
    "from sklearn.metrics import classification_report\n",
    "from sklearn.metrics import log_loss\n",
    "from sklearn.linear_model import LogisticRegression\n",
    "from sklearn import svm\n",
    "from sklearn.neural_network import MLPClassifier\n",
    "from sklearn.ensemble import RandomForestClassifier\n",
    "from sklearn.tree import DecisionTreeClassifier\n",
    "# Import Meta-estimators\n",
    "from sklearn.ensemble import AdaBoostClassifier\n",
    "from sklearn.ensemble import BaggingClassifier\n",
    "from sklearn.ensemble import GradientBoostingClassifier\n",
    "# Import Calibration tools\n",
    "from sklearn.calibration import CalibratedClassifierCV\n",
    "\n",
    "# Set random seed and format print output:\n",
    "np.random.seed(0)\n",
    "np.set_printoptions(precision=3)"
   ]
  },
  {
   "cell_type": "code",
   "execution_count": 3,
   "metadata": {
    "collapsed": false
   },
   "outputs": [
    {
     "name": "stdout",
     "output_type": "stream",
     "text": [
      "(array([ 39195,  69757, 347976, 450980, 467488, 777371], dtype=int64),)\n",
      "(array([  6630, 173114, 181454, 239577, 256637, 256880, 300524, 371552,\n",
      "       378220, 433978, 491311, 537117, 542223, 614805, 622486, 733540,\n",
      "       777032, 787625, 801668, 806897, 813648, 817548], dtype=int64),)\n",
      "39 39 39\n",
      "700000 700000\n",
      "100000 100000\n",
      "200000 200000\n",
      "50000 50000\n",
      "78049 78049\n"
     ]
    }
   ],
   "source": [
    "# Data path to your local copy of Kalvin's \"x_data.csv\", which was produced by the negated cell above\n",
    "data_path = \"./data/x_data_3.csv\"\n",
    "df = pd.read_csv(data_path, header=0)\n",
    "x_data = df.drop('category', 1)\n",
    "y = df.category.as_matrix()\n",
    "\n",
    "# Impute missing values with mean values:\n",
    "#x_complete = df.fillna(df.mean())\n",
    "x_complete = x_data.fillna(x_data.mean())\n",
    "X_raw = x_complete.as_matrix()\n",
    "\n",
    "# Scale the data between 0 and 1:\n",
    "X = MinMaxScaler().fit_transform(X_raw)\n",
    "\n",
    "####\n",
    "X = np.around(X, decimals=2)\n",
    "####\n",
    "\n",
    "# Shuffle data to remove any underlying pattern that may exist.  Must re-run random seed step each time:\n",
    "np.random.seed(0)\n",
    "shuffle = np.random.permutation(np.arange(X.shape[0]))\n",
    "X, y = X[shuffle], y[shuffle]\n",
    "\n",
    "print(np.where(y == 'TREA'))\n",
    "print(np.where(y == 'PORNOGRAPHY/OBSCENE MAT'))\n",
    "\n",
    "## Due to difficulties with log loss and set(y_pred) needing to match set(labels), we will remove the extremely rare\n",
    "## crimes from the data for quality issues.\n",
    "#X_minus_trea = X[np.where(y != 'TREA')]\n",
    "#y_minus_trea = y[np.where(y != 'TREA')]\n",
    "#X_final = X_minus_trea[np.where(y_minus_trea != 'PORNOGRAPHY/OBSCENE MAT')]\n",
    "#y_final = y_minus_trea[np.where(y_minus_trea != 'PORNOGRAPHY/OBSCENE MAT')]\n",
    "\n",
    "## Separate training, dev, and test data:\n",
    "#test_data, test_labels = X_final[800000:], y_final[800000:]\n",
    "#dev_data, dev_labels = X_final[700000:800000], y_final[700000:800000]\n",
    "#train_data, train_labels = X_final[100000:700000], y_final[100000:700000]\n",
    "#calibrate_data, calibrate_labels = X_final[:100000], y_final[:100000]\n",
    "\n",
    "test_data, test_labels = X[800000:], y[800000:]\n",
    "dev_data, dev_labels = X[700000:800000], y[700000:800000]\n",
    "#train_data, train_labels = X[100000:700000], y[100000:700000]\n",
    "train_data, train_labels = X[:700000], y[:700000]\n",
    "#calibrate_data, calibrate_labels = X[:100000], y[:100000]\n",
    "\n",
    "# Create mini versions of the above sets\n",
    "#mini_train_data, mini_train_labels = X_final[:20000], y_final[:20000]\n",
    "#mini_calibrate_data, mini_calibrate_labels = X_final[19000:28000], y_final[19000:28000]\n",
    "#mini_dev_data, mini_dev_labels = X_final[49000:60000], y_final[49000:60000]\n",
    "\n",
    "#mini_train_data, mini_train_labels = X[:20000], y[:20000]\n",
    "mini_train_data, mini_train_labels = X[:200000], y[:200000]\n",
    "#mini_calibrate_data, mini_calibrate_labels = X[19000:28000], y[19000:28000]\n",
    "mini_dev_data, mini_dev_labels = X[430000:480000], y[430000:480000]\n",
    "\n",
    "## Create list of the crime type labels.  This will act as the \"labels\" parameter for the log loss functions that follow\n",
    "#crime_labels = list(set(y_final))\n",
    "#crime_labels_mini_train = list(set(mini_train_labels))\n",
    "#crime_labels_mini_dev = list(set(mini_dev_labels))\n",
    "#crime_labels_mini_calibrate = list(set(mini_calibrate_labels))\n",
    "#print(len(crime_labels), len(crime_labels_mini_train), len(crime_labels_mini_dev),len(crime_labels_mini_calibrate))\n",
    "\n",
    "crime_labels = list(set(y))\n",
    "crime_labels_mini_train = list(set(mini_train_labels))\n",
    "crime_labels_mini_dev = list(set(mini_dev_labels))\n",
    "#crime_labels_mini_calibrate = list(set(mini_calibrate_labels))\n",
    "#print(len(crime_labels), len(crime_labels_mini_train), len(crime_labels_mini_dev),len(crime_labels_mini_calibrate))\n",
    "print(len(crime_labels), len(crime_labels_mini_train), len(crime_labels_mini_dev))\n",
    "\n",
    "print(len(train_data),len(train_labels))\n",
    "print(len(dev_data),len(dev_labels))\n",
    "print(len(mini_train_data),len(mini_train_labels))\n",
    "print(len(mini_dev_data),len(mini_dev_labels))\n",
    "print(len(test_data),len(test_labels))\n",
    "#print(len(mini_calibrate_data),len(mini_calibrate_labels))\n",
    "#print(len(calibrate_data),len(calibrate_labels))"
   ]
  },
  {
   "cell_type": "code",
   "execution_count": 4,
   "metadata": {
    "collapsed": false
   },
   "outputs": [
    {
     "data": {
      "text/plain": [
       "GradientBoostingClassifier(criterion='friedman_mse', init=None,\n",
       "              learning_rate=0.1, loss='deviance', max_depth=3,\n",
       "              max_features=None, max_leaf_nodes=None,\n",
       "              min_impurity_split=1e-07, min_samples_leaf=1,\n",
       "              min_samples_split=2, min_weight_fraction_leaf=0.0,\n",
       "              n_estimators=100, presort='auto', random_state=None,\n",
       "              subsample=1.0, verbose=0, warm_start=False)"
      ]
     },
     "execution_count": 4,
     "metadata": {},
     "output_type": "execute_result"
    }
   ],
   "source": [
    "defaultGradientBoost = GradientBoostingClassifier()\n",
    "defaultGradientBoost.fit(mini_train_data, mini_train_labels)"
   ]
  },
  {
   "cell_type": "code",
   "execution_count": 5,
   "metadata": {
    "collapsed": true
   },
   "outputs": [],
   "source": [
    "defaultPredictionProbabilities = defaultGradientBoost.predict_proba(mini_dev_data)"
   ]
  },
  {
   "cell_type": "code",
   "execution_count": 6,
   "metadata": {
    "collapsed": false
   },
   "outputs": [
    {
     "name": "stdout",
     "output_type": "stream",
     "text": [
      "Multi-class Log Loss: 2.56145048188 \n",
      "\n",
      "\n"
     ]
    }
   ],
   "source": [
    "print(\"Multi-class Log Loss:\", log_loss(y_true = mini_dev_labels, y_pred = defaultPredictionProbabilities, labels = crime_labels_mini_dev), \"\\n\\n\")"
   ]
  }
 ],
 "metadata": {
  "kernelspec": {
   "display_name": "Python 3",
   "language": "python",
   "name": "python3"
  },
  "language_info": {
   "codemirror_mode": {
    "name": "ipython",
    "version": 3
   },
   "file_extension": ".py",
   "mimetype": "text/x-python",
   "name": "python",
   "nbconvert_exporter": "python",
   "pygments_lexer": "ipython3",
   "version": "3.6.0"
  }
 },
 "nbformat": 4,
 "nbformat_minor": 2
}
